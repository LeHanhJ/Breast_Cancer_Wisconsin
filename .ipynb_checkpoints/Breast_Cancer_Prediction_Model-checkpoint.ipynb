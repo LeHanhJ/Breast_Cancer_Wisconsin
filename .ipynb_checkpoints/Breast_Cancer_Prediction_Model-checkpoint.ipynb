{
 "cells": [
  {
   "cell_type": "code",
   "execution_count": 1,
   "id": "2b094ec6-6706-4c17-ad77-d98c026f416f",
   "metadata": {
    "tags": []
   },
   "outputs": [],
   "source": [
    "from ucimlrepo import fetch_ucirepo \n",
    "import matplotlib.pyplot as plt\n",
    "import pandas as pd\n",
    "import numpy as np\n",
    "  \n",
    "# fetch dataset \n",
    "breast_cancer_wisconsin_original = fetch_ucirepo(id=15) \n",
    "  \n",
    "# data (as pandas dataframes) \n",
    "df_features = breast_cancer_wisconsin_original.data.features \n",
    "df_targets = breast_cancer_wisconsin_original.data.targets "
   ]
  },
  {
   "cell_type": "markdown",
   "id": "5c4ac582-3566-4cb7-9fd5-b8a0e3a51359",
   "metadata": {},
   "source": [
    "## Prediction Goal: \n",
    "### To create a prediction model to find what patients are more likely to develop malignant breast cancer. (1989 - 1991)"
   ]
  },
  {
   "cell_type": "markdown",
   "id": "afc090ac-a076-41e7-890e-419bc7d46fd4",
   "metadata": {},
   "source": [
    "| Variable Name | Role | Type | Description |\n",
    "|-----------|:-----------:|:----------:|------------:|\n",
    "| Sample_code_number | ID | Categorical | ID Number |\n",
    "| Clump_Thickness | Feature | Integer | 1 - 10 |\n",
    "| Size_Cell_Uniformity | Feature | Integer | 1 - 10 |\n",
    "| Shape_Cell_Uniformity | Feature | Integer | 1 - 10 |\n",
    "| Marginal_Adhesion | Feature | Integer | 1 - 10 |\n",
    "| Single_Epithelial_Cell_Size | Feature |  Integer | 1 - 10|\n",
    "| Bare_Nuclei | Feature | Integer | 1 - 10 |\n",
    "| Bland_Chromatin | Feature | Integer | 1 - 10 |\n",
    "| Normal_Nuclei | Feature | Integer | 1 - 10 |\n",
    "| Mitoses | Feature | Integer | 1 - 10 |\n",
    "| Class | Target | Binary | 2 = Benign, 4 = Malignant |\n"
   ]
  },
  {
   "cell_type": "code",
   "execution_count": 2,
   "id": "01eccda8-9260-4b93-8800-e9aa7eb2de96",
   "metadata": {
    "tags": []
   },
   "outputs": [
    {
     "data": {
      "text/plain": [
       "Class\n",
       "2        458\n",
       "4        241\n",
       "Name: count, dtype: int64"
      ]
     },
     "execution_count": 2,
     "metadata": {},
     "output_type": "execute_result"
    }
   ],
   "source": [
    "df_targets.value_counts()\n",
    "# Checking how many benign vs malignant targets there are "
   ]
  },
  {
   "cell_type": "code",
   "execution_count": 3,
   "id": "d26a7367-dad2-4aef-bfda-81174437cee0",
   "metadata": {
    "tags": []
   },
   "outputs": [
    {
     "data": {
      "text/html": [
       "<div>\n",
       "<style scoped>\n",
       "    .dataframe tbody tr th:only-of-type {\n",
       "        vertical-align: middle;\n",
       "    }\n",
       "\n",
       "    .dataframe tbody tr th {\n",
       "        vertical-align: top;\n",
       "    }\n",
       "\n",
       "    .dataframe thead th {\n",
       "        text-align: right;\n",
       "    }\n",
       "</style>\n",
       "<table border=\"1\" class=\"dataframe\">\n",
       "  <thead>\n",
       "    <tr style=\"text-align: right;\">\n",
       "      <th></th>\n",
       "      <th>Class</th>\n",
       "      <th>Clump_thickness</th>\n",
       "      <th>Uniformity_of_cell_size</th>\n",
       "      <th>Uniformity_of_cell_shape</th>\n",
       "      <th>Marginal_adhesion</th>\n",
       "      <th>Single_epithelial_cell_size</th>\n",
       "      <th>Bare_nuclei</th>\n",
       "      <th>Bland_chromatin</th>\n",
       "      <th>Normal_nucleoli</th>\n",
       "      <th>Mitoses</th>\n",
       "    </tr>\n",
       "  </thead>\n",
       "  <tbody>\n",
       "    <tr>\n",
       "      <th>0</th>\n",
       "      <td>2</td>\n",
       "      <td>5</td>\n",
       "      <td>1</td>\n",
       "      <td>1</td>\n",
       "      <td>1</td>\n",
       "      <td>2</td>\n",
       "      <td>1.0</td>\n",
       "      <td>3</td>\n",
       "      <td>1</td>\n",
       "      <td>1</td>\n",
       "    </tr>\n",
       "    <tr>\n",
       "      <th>1</th>\n",
       "      <td>2</td>\n",
       "      <td>5</td>\n",
       "      <td>4</td>\n",
       "      <td>4</td>\n",
       "      <td>5</td>\n",
       "      <td>7</td>\n",
       "      <td>10.0</td>\n",
       "      <td>3</td>\n",
       "      <td>2</td>\n",
       "      <td>1</td>\n",
       "    </tr>\n",
       "    <tr>\n",
       "      <th>2</th>\n",
       "      <td>2</td>\n",
       "      <td>3</td>\n",
       "      <td>1</td>\n",
       "      <td>1</td>\n",
       "      <td>1</td>\n",
       "      <td>2</td>\n",
       "      <td>2.0</td>\n",
       "      <td>3</td>\n",
       "      <td>1</td>\n",
       "      <td>1</td>\n",
       "    </tr>\n",
       "    <tr>\n",
       "      <th>3</th>\n",
       "      <td>2</td>\n",
       "      <td>6</td>\n",
       "      <td>8</td>\n",
       "      <td>8</td>\n",
       "      <td>1</td>\n",
       "      <td>3</td>\n",
       "      <td>4.0</td>\n",
       "      <td>3</td>\n",
       "      <td>7</td>\n",
       "      <td>1</td>\n",
       "    </tr>\n",
       "    <tr>\n",
       "      <th>4</th>\n",
       "      <td>2</td>\n",
       "      <td>4</td>\n",
       "      <td>1</td>\n",
       "      <td>1</td>\n",
       "      <td>3</td>\n",
       "      <td>2</td>\n",
       "      <td>1.0</td>\n",
       "      <td>3</td>\n",
       "      <td>1</td>\n",
       "      <td>1</td>\n",
       "    </tr>\n",
       "    <tr>\n",
       "      <th>5</th>\n",
       "      <td>4</td>\n",
       "      <td>8</td>\n",
       "      <td>10</td>\n",
       "      <td>10</td>\n",
       "      <td>8</td>\n",
       "      <td>7</td>\n",
       "      <td>10.0</td>\n",
       "      <td>9</td>\n",
       "      <td>7</td>\n",
       "      <td>1</td>\n",
       "    </tr>\n",
       "    <tr>\n",
       "      <th>6</th>\n",
       "      <td>2</td>\n",
       "      <td>1</td>\n",
       "      <td>1</td>\n",
       "      <td>1</td>\n",
       "      <td>1</td>\n",
       "      <td>2</td>\n",
       "      <td>10.0</td>\n",
       "      <td>3</td>\n",
       "      <td>1</td>\n",
       "      <td>1</td>\n",
       "    </tr>\n",
       "    <tr>\n",
       "      <th>7</th>\n",
       "      <td>2</td>\n",
       "      <td>2</td>\n",
       "      <td>1</td>\n",
       "      <td>2</td>\n",
       "      <td>1</td>\n",
       "      <td>2</td>\n",
       "      <td>1.0</td>\n",
       "      <td>3</td>\n",
       "      <td>1</td>\n",
       "      <td>1</td>\n",
       "    </tr>\n",
       "  </tbody>\n",
       "</table>\n",
       "</div>"
      ],
      "text/plain": [
       "   Class  Clump_thickness  Uniformity_of_cell_size  Uniformity_of_cell_shape  \\\n",
       "0      2                5                        1                         1   \n",
       "1      2                5                        4                         4   \n",
       "2      2                3                        1                         1   \n",
       "3      2                6                        8                         8   \n",
       "4      2                4                        1                         1   \n",
       "5      4                8                       10                        10   \n",
       "6      2                1                        1                         1   \n",
       "7      2                2                        1                         2   \n",
       "\n",
       "   Marginal_adhesion  Single_epithelial_cell_size  Bare_nuclei  \\\n",
       "0                  1                            2          1.0   \n",
       "1                  5                            7         10.0   \n",
       "2                  1                            2          2.0   \n",
       "3                  1                            3          4.0   \n",
       "4                  3                            2          1.0   \n",
       "5                  8                            7         10.0   \n",
       "6                  1                            2         10.0   \n",
       "7                  1                            2          1.0   \n",
       "\n",
       "   Bland_chromatin  Normal_nucleoli  Mitoses  \n",
       "0                3                1        1  \n",
       "1                3                2        1  \n",
       "2                3                1        1  \n",
       "3                3                7        1  \n",
       "4                3                1        1  \n",
       "5                9                7        1  \n",
       "6                3                1        1  \n",
       "7                3                1        1  "
      ]
     },
     "execution_count": 3,
     "metadata": {},
     "output_type": "execute_result"
    }
   ],
   "source": [
    "# Concatenate features and targets dataframe into one \n",
    "df = pd.concat([df_targets, df_features], axis = 1)\n",
    "df.head(8)"
   ]
  },
  {
   "cell_type": "code",
   "execution_count": 4,
   "id": "019e65cb-ec4c-4c9f-b2fa-55c3977a75d1",
   "metadata": {
    "tags": []
   },
   "outputs": [
    {
     "data": {
      "text/plain": [
       "True"
      ]
     },
     "execution_count": 4,
     "metadata": {},
     "output_type": "execute_result"
    }
   ],
   "source": [
    "# Check for any null values, and there are so we have to find out what null values there are\n",
    "df.isnull().values.any()"
   ]
  },
  {
   "cell_type": "code",
   "execution_count": 5,
   "id": "f8a75a8b-ac46-4ca3-ae1b-0a2abd1838ac",
   "metadata": {
    "tags": []
   },
   "outputs": [
    {
     "data": {
      "text/plain": [
       "Class                           0\n",
       "Clump_thickness                 0\n",
       "Uniformity_of_cell_size         0\n",
       "Uniformity_of_cell_shape        0\n",
       "Marginal_adhesion               0\n",
       "Single_epithelial_cell_size     0\n",
       "Bare_nuclei                    16\n",
       "Bland_chromatin                 0\n",
       "Normal_nucleoli                 0\n",
       "Mitoses                         0\n",
       "dtype: int64"
      ]
     },
     "execution_count": 5,
     "metadata": {},
     "output_type": "execute_result"
    }
   ],
   "source": [
    "# We know that Bare_nuclei has null values\n",
    "df.isnull().sum()\n",
    "# We will impute later after splitting data"
   ]
  },
  {
   "cell_type": "code",
   "execution_count": 6,
   "id": "c5c29770-dbe9-4d41-b42b-60009a185eb2",
   "metadata": {
    "tags": []
   },
   "outputs": [
    {
     "name": "stdout",
     "output_type": "stream",
     "text": [
      "Number of Benign Cases: 458 (65.52%)\n",
      "Number of Malignant Cases: 241 (34.48%)\n"
     ]
    }
   ],
   "source": [
    "# Check ratio of benign vs malignant cancer\n",
    "\n",
    "num_obs = len(df)\n",
    "benign_num = len(df.loc[df['Class'] == 2])\n",
    "malig_num = len(df.loc[df['Class'] == 4])\n",
    "\n",
    "print(\"Number of Benign Cases: {0} ({1:2.2f}%)\".format(benign_num, (benign_num / (benign_num + malig_num)) * 100))\n",
    "print(\"Number of Malignant Cases: {0} ({1:2.2f}%)\".format(malig_num, (malig_num / (benign_num + malig_num)) * 100))"
   ]
  },
  {
   "cell_type": "markdown",
   "id": "f5677b35-0348-4cb7-b5a6-154b762de9b0",
   "metadata": {},
   "source": [
    "## Splitting the data"
   ]
  },
  {
   "cell_type": "code",
   "execution_count": 7,
   "id": "20fb89bb-f620-4cb1-bc71-f2a2d15759db",
   "metadata": {
    "tags": []
   },
   "outputs": [],
   "source": [
    "# Using scikit-learn to split the data\n",
    "\n",
    "from sklearn.model_selection import train_test_split\n",
    "\n",
    "feature_column_names = [\"Clump_thickness\", \"Uniformity_of_cell_size\", \"Uniformity_of_cell_shape\", \"Marginal_adhesion\", \"Single_epithelial_cell_size\", \"Bare_nuclei\", \"Bland_chromatin\", \"Normal_nucleoli\", \"Mitoses\"]\n",
    "predicted_class_name = [\"Class\"]\n",
    "\n",
    "x = df[feature_column_names]\n",
    "y = df[predicted_class_name]\n",
    "\n",
    "split_test_size = 0.30\n",
    "\n",
    "x_train, x_test, y_train, y_test = train_test_split(x, y, test_size = split_test_size, random_state = 35)"
   ]
  },
  {
   "cell_type": "code",
   "execution_count": 36,
   "id": "d0a4bc65-40f2-4f0e-a66c-fddc4469b10d",
   "metadata": {
    "tags": []
   },
   "outputs": [
    {
     "name": "stdout",
     "output_type": "stream",
     "text": [
      "62.95% of features data in training set\n",
      "30.04% of features data in test set\n",
      "(440, 9)\n",
      "(210, 9)\n",
      "(440, 1)\n",
      "(210, 1)\n",
      "     Class\n",
      "614  False\n",
      "531  False\n",
      "122   True\n",
      "32    True\n",
      "642  False\n",
      "..     ...\n",
      "29   False\n",
      "223   True\n",
      "349   True\n",
      "418  False\n",
      "595  False\n",
      "\n",
      "[440 rows x 1 columns]\n"
     ]
    }
   ],
   "source": [
    "# Checking data splitting\n",
    "\n",
    "print(\"{0:0.2f}% of features data in training set\".format((len(x_train)/len(df.index))*100))\n",
    "print(\"{0:0.2f}% of features data in test set\".format((len(x_test)/len(df.index))*100))\n",
    "print(x_train.shape)\n",
    "print(x_test.shape)\n",
    "print(y_train.shape)\n",
    "print(y_test.shape)\n",
    "\n",
    "print(y_train == 4)"
   ]
  },
  {
   "cell_type": "code",
   "execution_count": 9,
   "id": "0c07c914-2367-4d9f-876d-9aa6d3d9164a",
   "metadata": {
    "tags": []
   },
   "outputs": [
    {
     "name": "stdout",
     "output_type": "stream",
     "text": [
      "62.95% of features data in training set\n",
      "30.04% of features data in test set\n",
      "7.01% of features data in validation set\n"
     ]
    }
   ],
   "source": [
    "# Splitting for a validation set of data\n",
    "\n",
    "from sklearn.model_selection import train_test_split\n",
    "feature_column_names = [\"Clump_thickness\", \"Uniformity_of_cell_size\", \"Uniformity_of_cell_shape\", \"Marginal_adhesion\", \"Single_epithelial_cell_size\", \"Bare_nuclei\", \"Bland_chromatin\", \"Normal_nucleoli\", \"Mitoses\"]\n",
    "predicted_class_name = [\"Class\"]\n",
    "\n",
    "x = df[feature_column_names]\n",
    "y = df[predicted_class_name]\n",
    "\n",
    "x_train, x_test, y_train, y_test = train_test_split(x, y, test_size = 0.3, random_state = 35)\n",
    "x_train, x_valid, y_train, y_valid = train_test_split(x_train, y_train, test_size = 0.1, random_state = 35)\n",
    "\n",
    "\n",
    "#And checking split for training/ test/ validation sets\n",
    "print(\"{0:0.2f}% of features data in training set\".format((len(x_train)/len(df.index))*100))\n",
    "print(\"{0:0.2f}% of features data in test set\".format((len(x_test)/len(df.index))*100))\n",
    "print(\"{0:0.2f}% of features data in validation set\".format((len(x_valid)/len(df.index))*100))\n"
   ]
  },
  {
   "cell_type": "code",
   "execution_count": 22,
   "id": "e484e88b-4592-4b16-8e32-c4239759a3d9",
   "metadata": {
    "tags": []
   },
   "outputs": [
    {
     "name": "stdout",
     "output_type": "stream",
     "text": [
      "Original Benign: 458 (65.52%)\n",
      "Original Malignant: 241 (34.48%)\n",
      "\n",
      "Training Benign  : 440 (62.95%)\n",
      "Training Malignant : 440 (62.95%)\n",
      "\n",
      "Test Benign  : 210 (30.04%)\n",
      "Test Malignant : 210 (30.04%)\n",
      "\n",
      "Valid Benign  : 49 (7.01%)\n",
      "Valid Malignant : 49 (7.01%)\n"
     ]
    }
   ],
   "source": [
    "#Check if the percentages of 2 and 4 are similar between sets\n",
    "\n",
    "print(\"Original Benign: {0} ({1:0.2f}%)\".format(len(df.loc[df[\"Class\"] == 2]), (len(df.loc[df[\"Class\"] == 2])/len(df.index))*100 ))\n",
    "print(\"Original Malignant: {0} ({1:0.2f}%)\".format(len(df.loc[df['Class'] == 4]), (len(df.loc[df['Class'] == 4])/len(df.index)) * 100))\n",
    "print(\"\")\n",
    "\n",
    "print(\"Training Benign  : {0} ({1:0.2f}%)\".format(len(y_train[y_train[:] == 2]), (len(y_train[y_train[:] == 2])/len(df.index) * 100.0)))\n",
    "print(\"Training Malignant : {0} ({1:0.2f}%)\".format(len(y_train[y_train[:] == 4]), (len(y_train[y_train[:] == 4])/len(df.index) * 100.0)))\n",
    "\n",
    "print(\"\")\n",
    "\n",
    "print(\"Test Benign  : {0} ({1:0.2f}%)\".format(len(y_test[y_test[:] == 2]), (len(y_test[y_test[:] == 2])/len(df.index)) * 100.0))\n",
    "print(\"Test Malignant : {0} ({1:0.2f}%)\".format(len(y_test[y_test[:] == 4]), (len(y_test[y_test[:] == 4])/len(df.index)) * 100.0))\n",
    "print(\"\")\n",
    "print(\"Valid Benign  : {0} ({1:0.2f}%)\".format(len(y_valid[y_valid[:] == 2]), (len(y_valid[y_valid[:] == 2])/len(df.index)) * 100.0))\n",
    "print(\"Valid Malignant : {0} ({1:0.2f}%)\".format(len(y_valid[y_valid[:] == 4]), (len(y_valid[y_valid[:]== 4])/len(df.index)) * 100.0))"
   ]
  },
  {
   "cell_type": "raw",
   "id": "5202ad4c-85b2-4876-a62b-a604d532e09c",
   "metadata": {},
   "source": []
  }
 ],
 "metadata": {
  "kernelspec": {
   "display_name": "Python 3 (ipykernel)",
   "language": "python",
   "name": "python3"
  },
  "language_info": {
   "codemirror_mode": {
    "name": "ipython",
    "version": 3
   },
   "file_extension": ".py",
   "mimetype": "text/x-python",
   "name": "python",
   "nbconvert_exporter": "python",
   "pygments_lexer": "ipython3",
   "version": "3.11.5"
  }
 },
 "nbformat": 4,
 "nbformat_minor": 5
}
