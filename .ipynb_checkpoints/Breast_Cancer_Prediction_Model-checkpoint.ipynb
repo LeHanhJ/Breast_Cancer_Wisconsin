{
 "cells": [
  {
   "cell_type": "code",
   "execution_count": 1,
   "id": "2b094ec6-6706-4c17-ad77-d98c026f416f",
   "metadata": {
    "tags": []
   },
   "outputs": [],
   "source": [
    "from ucimlrepo import fetch_ucirepo \n",
    "import matplotlib.pyplot as plt\n",
    "import pandas as pd\n",
    "import numpy as np\n",
    "  \n",
    "# fetch dataset \n",
    "breast_cancer_wisconsin_original = fetch_ucirepo(id=15) \n",
    "  \n",
    "# data (as pandas dataframes) \n",
    "df_features = breast_cancer_wisconsin_original.data.features \n",
    "df_targets = breast_cancer_wisconsin_original.data.targets "
   ]
  },
  {
   "cell_type": "markdown",
   "id": "5c4ac582-3566-4cb7-9fd5-b8a0e3a51359",
   "metadata": {},
   "source": [
    "## Prediction Goal: \n",
    "### To create a prediction model to find what patients are more likely to develop malignant breast cancer. (1989 - 1991)"
   ]
  },
  {
   "cell_type": "markdown",
   "id": "afc090ac-a076-41e7-890e-419bc7d46fd4",
   "metadata": {},
   "source": [
    "| Variable Name | Role | Type | Description |\n",
    "|-----------|:-----------:|:----------:|------------:|\n",
    "| Sample_code_number | ID | Categorical | ID Number |\n",
    "| Clump_Thickness | Feature | Integer | 1 - 10 |\n",
    "| Size_Cell_Uniformity | Feature | Integer | 1 - 10 |\n",
    "| Shape_Cell_Uniformity | Feature | Integer | 1 - 10 |\n",
    "| Marginal_Adhesion | Feature | Integer | 1 - 10 |\n",
    "| Single_Epithelial_Cell_Size | Feature |  Integer | 1 - 10|\n",
    "| Bare_Nuclei | Feature | Integer | 1 - 10 |\n",
    "| Bland_Chromatin | Feature | Integer | 1 - 10 |\n",
    "| Normal_Nuclei | Feature | Integer | 1 - 10 |\n",
    "| Mitoses | Feature | Integer | 1 - 10 |\n",
    "| Class | Target | Binary | 2 = Benign, 4 = Malignant |\n"
   ]
  },
  {
   "cell_type": "code",
   "execution_count": 2,
   "id": "01eccda8-9260-4b93-8800-e9aa7eb2de96",
   "metadata": {
    "tags": []
   },
   "outputs": [
    {
     "data": {
      "text/plain": [
       "Class\n",
       "2        458\n",
       "4        241\n",
       "Name: count, dtype: int64"
      ]
     },
     "execution_count": 2,
     "metadata": {},
     "output_type": "execute_result"
    }
   ],
   "source": [
    "df_targets.value_counts()\n",
    "# Checking how many benign vs malignant targets there are "
   ]
  },
  {
   "cell_type": "code",
   "execution_count": 3,
   "id": "d26a7367-dad2-4aef-bfda-81174437cee0",
   "metadata": {
    "tags": []
   },
   "outputs": [
    {
     "data": {
      "text/html": [
       "<div>\n",
       "<style scoped>\n",
       "    .dataframe tbody tr th:only-of-type {\n",
       "        vertical-align: middle;\n",
       "    }\n",
       "\n",
       "    .dataframe tbody tr th {\n",
       "        vertical-align: top;\n",
       "    }\n",
       "\n",
       "    .dataframe thead th {\n",
       "        text-align: right;\n",
       "    }\n",
       "</style>\n",
       "<table border=\"1\" class=\"dataframe\">\n",
       "  <thead>\n",
       "    <tr style=\"text-align: right;\">\n",
       "      <th></th>\n",
       "      <th>Class</th>\n",
       "      <th>Clump_thickness</th>\n",
       "      <th>Uniformity_of_cell_size</th>\n",
       "      <th>Uniformity_of_cell_shape</th>\n",
       "      <th>Marginal_adhesion</th>\n",
       "      <th>Single_epithelial_cell_size</th>\n",
       "      <th>Bare_nuclei</th>\n",
       "      <th>Bland_chromatin</th>\n",
       "      <th>Normal_nucleoli</th>\n",
       "      <th>Mitoses</th>\n",
       "    </tr>\n",
       "  </thead>\n",
       "  <tbody>\n",
       "    <tr>\n",
       "      <th>0</th>\n",
       "      <td>2</td>\n",
       "      <td>5</td>\n",
       "      <td>1</td>\n",
       "      <td>1</td>\n",
       "      <td>1</td>\n",
       "      <td>2</td>\n",
       "      <td>1.0</td>\n",
       "      <td>3</td>\n",
       "      <td>1</td>\n",
       "      <td>1</td>\n",
       "    </tr>\n",
       "    <tr>\n",
       "      <th>1</th>\n",
       "      <td>2</td>\n",
       "      <td>5</td>\n",
       "      <td>4</td>\n",
       "      <td>4</td>\n",
       "      <td>5</td>\n",
       "      <td>7</td>\n",
       "      <td>10.0</td>\n",
       "      <td>3</td>\n",
       "      <td>2</td>\n",
       "      <td>1</td>\n",
       "    </tr>\n",
       "    <tr>\n",
       "      <th>2</th>\n",
       "      <td>2</td>\n",
       "      <td>3</td>\n",
       "      <td>1</td>\n",
       "      <td>1</td>\n",
       "      <td>1</td>\n",
       "      <td>2</td>\n",
       "      <td>2.0</td>\n",
       "      <td>3</td>\n",
       "      <td>1</td>\n",
       "      <td>1</td>\n",
       "    </tr>\n",
       "    <tr>\n",
       "      <th>3</th>\n",
       "      <td>2</td>\n",
       "      <td>6</td>\n",
       "      <td>8</td>\n",
       "      <td>8</td>\n",
       "      <td>1</td>\n",
       "      <td>3</td>\n",
       "      <td>4.0</td>\n",
       "      <td>3</td>\n",
       "      <td>7</td>\n",
       "      <td>1</td>\n",
       "    </tr>\n",
       "    <tr>\n",
       "      <th>4</th>\n",
       "      <td>2</td>\n",
       "      <td>4</td>\n",
       "      <td>1</td>\n",
       "      <td>1</td>\n",
       "      <td>3</td>\n",
       "      <td>2</td>\n",
       "      <td>1.0</td>\n",
       "      <td>3</td>\n",
       "      <td>1</td>\n",
       "      <td>1</td>\n",
       "    </tr>\n",
       "    <tr>\n",
       "      <th>5</th>\n",
       "      <td>4</td>\n",
       "      <td>8</td>\n",
       "      <td>10</td>\n",
       "      <td>10</td>\n",
       "      <td>8</td>\n",
       "      <td>7</td>\n",
       "      <td>10.0</td>\n",
       "      <td>9</td>\n",
       "      <td>7</td>\n",
       "      <td>1</td>\n",
       "    </tr>\n",
       "    <tr>\n",
       "      <th>6</th>\n",
       "      <td>2</td>\n",
       "      <td>1</td>\n",
       "      <td>1</td>\n",
       "      <td>1</td>\n",
       "      <td>1</td>\n",
       "      <td>2</td>\n",
       "      <td>10.0</td>\n",
       "      <td>3</td>\n",
       "      <td>1</td>\n",
       "      <td>1</td>\n",
       "    </tr>\n",
       "    <tr>\n",
       "      <th>7</th>\n",
       "      <td>2</td>\n",
       "      <td>2</td>\n",
       "      <td>1</td>\n",
       "      <td>2</td>\n",
       "      <td>1</td>\n",
       "      <td>2</td>\n",
       "      <td>1.0</td>\n",
       "      <td>3</td>\n",
       "      <td>1</td>\n",
       "      <td>1</td>\n",
       "    </tr>\n",
       "  </tbody>\n",
       "</table>\n",
       "</div>"
      ],
      "text/plain": [
       "   Class  Clump_thickness  Uniformity_of_cell_size  Uniformity_of_cell_shape  \\\n",
       "0      2                5                        1                         1   \n",
       "1      2                5                        4                         4   \n",
       "2      2                3                        1                         1   \n",
       "3      2                6                        8                         8   \n",
       "4      2                4                        1                         1   \n",
       "5      4                8                       10                        10   \n",
       "6      2                1                        1                         1   \n",
       "7      2                2                        1                         2   \n",
       "\n",
       "   Marginal_adhesion  Single_epithelial_cell_size  Bare_nuclei  \\\n",
       "0                  1                            2          1.0   \n",
       "1                  5                            7         10.0   \n",
       "2                  1                            2          2.0   \n",
       "3                  1                            3          4.0   \n",
       "4                  3                            2          1.0   \n",
       "5                  8                            7         10.0   \n",
       "6                  1                            2         10.0   \n",
       "7                  1                            2          1.0   \n",
       "\n",
       "   Bland_chromatin  Normal_nucleoli  Mitoses  \n",
       "0                3                1        1  \n",
       "1                3                2        1  \n",
       "2                3                1        1  \n",
       "3                3                7        1  \n",
       "4                3                1        1  \n",
       "5                9                7        1  \n",
       "6                3                1        1  \n",
       "7                3                1        1  "
      ]
     },
     "execution_count": 3,
     "metadata": {},
     "output_type": "execute_result"
    }
   ],
   "source": [
    "# Concatenate features and targets dataframe into one \n",
    "df = pd.concat([df_targets, df_features], axis = 1)\n",
    "df.head(8)"
   ]
  },
  {
   "cell_type": "code",
   "execution_count": 4,
   "id": "019e65cb-ec4c-4c9f-b2fa-55c3977a75d1",
   "metadata": {
    "tags": []
   },
   "outputs": [
    {
     "data": {
      "text/plain": [
       "True"
      ]
     },
     "execution_count": 4,
     "metadata": {},
     "output_type": "execute_result"
    }
   ],
   "source": [
    "# Check for any null values, and there are so we have to find out what null values there are\n",
    "df.isnull().values.any()"
   ]
  },
  {
   "cell_type": "code",
   "execution_count": 5,
   "id": "f8a75a8b-ac46-4ca3-ae1b-0a2abd1838ac",
   "metadata": {
    "tags": []
   },
   "outputs": [
    {
     "data": {
      "text/plain": [
       "Class                           0\n",
       "Clump_thickness                 0\n",
       "Uniformity_of_cell_size         0\n",
       "Uniformity_of_cell_shape        0\n",
       "Marginal_adhesion               0\n",
       "Single_epithelial_cell_size     0\n",
       "Bare_nuclei                    16\n",
       "Bland_chromatin                 0\n",
       "Normal_nucleoli                 0\n",
       "Mitoses                         0\n",
       "dtype: int64"
      ]
     },
     "execution_count": 5,
     "metadata": {},
     "output_type": "execute_result"
    }
   ],
   "source": [
    "# We know that Bare_nuclei has null values\n",
    "df.isnull().sum()\n",
    "# We will impute later after splitting data"
   ]
  },
  {
   "cell_type": "code",
   "execution_count": 6,
   "id": "2ac38c4b-5ed0-4bc5-bfaa-0148de9fff18",
   "metadata": {
    "tags": []
   },
   "outputs": [],
   "source": [
    "class_map = {2:1, 4:0}"
   ]
  },
  {
   "cell_type": "code",
   "execution_count": 7,
   "id": "c5c29770-dbe9-4d41-b42b-60009a185eb2",
   "metadata": {
    "tags": []
   },
   "outputs": [
    {
     "name": "stdout",
     "output_type": "stream",
     "text": [
      "Number of Benign Cases: 458 (65.52%)\n",
      "Number of Malignant Cases: 241 (34.48%)\n"
     ]
    }
   ],
   "source": [
    "# Check ratio of benign vs malignant cancer\n",
    "\n",
    "num_obs = len(df)\n",
    "benign_num = len(df.loc[df['Class'] == 2])\n",
    "malig_num = len(df.loc[df['Class'] == 4])\n",
    "\n",
    "print(\"Number of Benign Cases: {0} ({1:2.2f}%)\".format(benign_num, (benign_num / (benign_num + malig_num)) * 100))\n",
    "print(\"Number of Malignant Cases: {0} ({1:2.2f}%)\".format(malig_num, (malig_num / (benign_num + malig_num)) * 100))"
   ]
  },
  {
   "cell_type": "markdown",
   "id": "f5677b35-0348-4cb7-b5a6-154b762de9b0",
   "metadata": {},
   "source": [
    "## Splitting the data into Training and Test sets"
   ]
  },
  {
   "cell_type": "code",
   "execution_count": 8,
   "id": "20fb89bb-f620-4cb1-bc71-f2a2d15759db",
   "metadata": {
    "tags": []
   },
   "outputs": [
    {
     "data": {
      "text/plain": [
       "((140, 9), (140, 1))"
      ]
     },
     "execution_count": 8,
     "metadata": {},
     "output_type": "execute_result"
    }
   ],
   "source": [
    "# Using scikit-learn to split the data\n",
    "\n",
    "from sklearn.model_selection import train_test_split\n",
    "\n",
    "feature_column_names = [\"Clump_thickness\", \"Uniformity_of_cell_size\", \"Uniformity_of_cell_shape\", \"Marginal_adhesion\", \"Single_epithelial_cell_size\", \"Bare_nuclei\", \"Bland_chromatin\", \"Normal_nucleoli\", \"Mitoses\"]\n",
    "predicted_class_name = [\"Class\"]\n",
    "\n",
    "X = df.loc[:, feature_column_names]\n",
    "y = df.loc[:, predicted_class_name]\n",
    "\n",
    "X_train, X_test, y_train, y_test = train_test_split(X, y, test_size = 0.2, random_state = 35)\n",
    "\n",
    "X_train.shape, y_train.shape\n",
    "X_test.shape , y_test.shape"
   ]
  },
  {
   "cell_type": "code",
   "execution_count": 9,
   "id": "d0a4bc65-40f2-4f0e-a66c-fddc4469b10d",
   "metadata": {
    "tags": []
   },
   "outputs": [
    {
     "name": "stdout",
     "output_type": "stream",
     "text": [
      "79.97% of features data in training set\n",
      "20.03% of features data in test set\n",
      "(559, 9)\n",
      "(140, 9)\n",
      "(559, 1)\n",
      "(140, 1)\n"
     ]
    }
   ],
   "source": [
    "# Checking data splitting\n",
    "\n",
    "print(\"{0:0.2f}% of features data in training set\".format((len(X_train)/len(df.index))*100))\n",
    "print(\"{0:0.2f}% of features data in test set\".format((len(X_test)/len(df.index))*100))\n",
    "print(X_train.shape)\n",
    "print(X_test.shape)\n",
    "print(y_train.shape)\n",
    "print(y_test.shape)\n"
   ]
  },
  {
   "cell_type": "markdown",
   "id": "9802c674-217a-4922-b369-3eee4b1522d9",
   "metadata": {},
   "source": [
    "## Splitting the Training data into Validation set"
   ]
  },
  {
   "cell_type": "code",
   "execution_count": 9,
   "id": "0c07c914-2367-4d9f-876d-9aa6d3d9164a",
   "metadata": {
    "tags": []
   },
   "outputs": [
    {
     "name": "stdout",
     "output_type": "stream",
     "text": [
      "71.96% of features data in training set\n",
      "20.03% of features data in test set\n",
      "8.01% of features data in validation set\n"
     ]
    }
   ],
   "source": [
    "# Splitting for a validation set of data\n",
    "\n",
    "from sklearn.model_selection import train_test_split\n",
    "feature_column_names = [\"Clump_thickness\", \"Uniformity_of_cell_size\", \"Uniformity_of_cell_shape\", \"Marginal_adhesion\", \"Single_epithelial_cell_size\", \"Bare_nuclei\", \"Bland_chromatin\", \"Normal_nucleoli\", \"Mitoses\"]\n",
    "predicted_class_name = [\"Class\"]\n",
    "\n",
    "x = df[feature_column_names]\n",
    "y = df[predicted_class_name]\n",
    "\n",
    "x_train, x_test, y_train, y_test = train_test_split(x, y, test_size = 0.2, random_state = 35)\n",
    "x_train, x_valid, y_train, y_valid = train_test_split(x_train, y_train, test_size = 0.1, random_state = 35)\n",
    "\n",
    "\n",
    "#And checking split for training/ test/ validation sets\n",
    "print(\"{0:0.2f}% of features data in training set\".format((len(x_train)/len(df.index))*100))\n",
    "print(\"{0:0.2f}% of features data in test set\".format((len(x_test)/len(df.index))*100))\n",
    "print(\"{0:0.2f}% of features data in validation set\".format((len(x_valid)/len(df.index))*100))\n"
   ]
  },
  {
   "cell_type": "code",
   "execution_count": 10,
   "id": "e484e88b-4592-4b16-8e32-c4239759a3d9",
   "metadata": {
    "tags": []
   },
   "outputs": [
    {
     "name": "stdout",
     "output_type": "stream",
     "text": [
      "Original Benign: 458 (65.52%)\n",
      "Original Malignant: 241 (34.48%)\n",
      "\n",
      "Training Benign  : 328 (65.21%)\n",
      "Training Malignant : 175 (34.79%)\n",
      "\n",
      "Test Benign  : 91 (65.00%)\n",
      "Test Malignant : 49 (35.00%)\n",
      "\n",
      "Valid Benign  : 39 (69.64%)\n",
      "Valid Malignant : 17 (30.36%)\n"
     ]
    }
   ],
   "source": [
    "#Check if the percentages of 2 and 4 are similar between sets\n",
    "\n",
    "print(\"Original Benign: {0} ({1:0.2f}%)\".format(len(df.loc[df[\"Class\"] == 2]), (len(df.loc[df[\"Class\"] == 2])/len(df.index))*100 ))\n",
    "print(\"Original Malignant: {0} ({1:0.2f}%)\".format(len(df.loc[df['Class'] == 4]), (len(df.loc[df['Class'] == 4])/len(df.index)) * 100))\n",
    "print(\"\")\n",
    "\n",
    "print(\"Training Benign  : {0} ({1:0.2f}%)\".format(len(y_train[y_train['Class'] == 2]), (len(y_train[y_train['Class'] == 2])/len(y_train) * 100.0)))\n",
    "print(\"Training Malignant : {0} ({1:0.2f}%)\".format(len(y_train[y_train['Class'] == 4]), (len(y_train[y_train['Class'] == 4])/len(y_train) * 100.0)))\n",
    "\n",
    "print(\"\")\n",
    "\n",
    "print(\"Test Benign  : {0} ({1:0.2f}%)\".format(len(y_test[y_test['Class'] == 2]), (len(y_test[y_test['Class'] == 2])/len(y_test)) * 100.0))\n",
    "print(\"Test Malignant : {0} ({1:0.2f}%)\".format(len(y_test[y_test['Class'] == 4]), (len(y_test[y_test['Class'] == 4])/len(y_test)) * 100.0))\n",
    "print(\"\")\n",
    "print(\"Valid Benign  : {0} ({1:0.2f}%)\".format(len(y_valid[y_valid['Class'] == 2]), (len(y_valid[y_valid['Class'] == 2])/len(y_valid)) * 100.0))\n",
    "print(\"Valid Malignant : {0} ({1:0.2f}%)\".format(len(y_valid[y_valid['Class'] == 4]), (len(y_valid[y_valid['Class']== 4])/len(y_valid)) * 100.0))"
   ]
  },
  {
   "cell_type": "code",
   "execution_count": 14,
   "id": "6041053d-719f-4d54-83a8-779a3ffc81d6",
   "metadata": {},
   "outputs": [],
   "source": [
    "# Impute missing data in Bare Nuclei\n",
    "from sklearn.impute import SimpleImputer\n",
    "\n",
    "bare_nuclei_impute = SimpleImputer(missing_values = np.nan, strategy = \"mean\")\n",
    "\n",
    "x_train = bare_nuclei_impute.fit_transform(x_train)\n",
    "x_test = bare_nuclei_impute.fit_transform(x_test)\n",
    "x_valid = bare_nuclei_impute.fit_transform(x_valid)"
   ]
  },
  {
   "cell_type": "markdown",
   "id": "703f421d-9892-4387-909a-1c5963823405",
   "metadata": {},
   "source": [
    "# Splitting and Preprocessing data completed (for now)"
   ]
  },
  {
   "cell_type": "markdown",
   "id": "0555d7ae-7523-43e4-9ee4-24b62a2b4345",
   "metadata": {},
   "source": [
    "# Training model on a Logistic Regression algorithm"
   ]
  },
  {
   "cell_type": "code",
   "execution_count": 48,
   "id": "d8c55c51-d89b-40a0-a498-7d38bbcdaa2a",
   "metadata": {
    "tags": []
   },
   "outputs": [
    {
     "data": {
      "text/html": [
       "<style>#sk-container-id-7 {color: black;}#sk-container-id-7 pre{padding: 0;}#sk-container-id-7 div.sk-toggleable {background-color: white;}#sk-container-id-7 label.sk-toggleable__label {cursor: pointer;display: block;width: 100%;margin-bottom: 0;padding: 0.3em;box-sizing: border-box;text-align: center;}#sk-container-id-7 label.sk-toggleable__label-arrow:before {content: \"▸\";float: left;margin-right: 0.25em;color: #696969;}#sk-container-id-7 label.sk-toggleable__label-arrow:hover:before {color: black;}#sk-container-id-7 div.sk-estimator:hover label.sk-toggleable__label-arrow:before {color: black;}#sk-container-id-7 div.sk-toggleable__content {max-height: 0;max-width: 0;overflow: hidden;text-align: left;background-color: #f0f8ff;}#sk-container-id-7 div.sk-toggleable__content pre {margin: 0.2em;color: black;border-radius: 0.25em;background-color: #f0f8ff;}#sk-container-id-7 input.sk-toggleable__control:checked~div.sk-toggleable__content {max-height: 200px;max-width: 100%;overflow: auto;}#sk-container-id-7 input.sk-toggleable__control:checked~label.sk-toggleable__label-arrow:before {content: \"▾\";}#sk-container-id-7 div.sk-estimator input.sk-toggleable__control:checked~label.sk-toggleable__label {background-color: #d4ebff;}#sk-container-id-7 div.sk-label input.sk-toggleable__control:checked~label.sk-toggleable__label {background-color: #d4ebff;}#sk-container-id-7 input.sk-hidden--visually {border: 0;clip: rect(1px 1px 1px 1px);clip: rect(1px, 1px, 1px, 1px);height: 1px;margin: -1px;overflow: hidden;padding: 0;position: absolute;width: 1px;}#sk-container-id-7 div.sk-estimator {font-family: monospace;background-color: #f0f8ff;border: 1px dotted black;border-radius: 0.25em;box-sizing: border-box;margin-bottom: 0.5em;}#sk-container-id-7 div.sk-estimator:hover {background-color: #d4ebff;}#sk-container-id-7 div.sk-parallel-item::after {content: \"\";width: 100%;border-bottom: 1px solid gray;flex-grow: 1;}#sk-container-id-7 div.sk-label:hover label.sk-toggleable__label {background-color: #d4ebff;}#sk-container-id-7 div.sk-serial::before {content: \"\";position: absolute;border-left: 1px solid gray;box-sizing: border-box;top: 0;bottom: 0;left: 50%;z-index: 0;}#sk-container-id-7 div.sk-serial {display: flex;flex-direction: column;align-items: center;background-color: white;padding-right: 0.2em;padding-left: 0.2em;position: relative;}#sk-container-id-7 div.sk-item {position: relative;z-index: 1;}#sk-container-id-7 div.sk-parallel {display: flex;align-items: stretch;justify-content: center;background-color: white;position: relative;}#sk-container-id-7 div.sk-item::before, #sk-container-id-7 div.sk-parallel-item::before {content: \"\";position: absolute;border-left: 1px solid gray;box-sizing: border-box;top: 0;bottom: 0;left: 50%;z-index: -1;}#sk-container-id-7 div.sk-parallel-item {display: flex;flex-direction: column;z-index: 1;position: relative;background-color: white;}#sk-container-id-7 div.sk-parallel-item:first-child::after {align-self: flex-end;width: 50%;}#sk-container-id-7 div.sk-parallel-item:last-child::after {align-self: flex-start;width: 50%;}#sk-container-id-7 div.sk-parallel-item:only-child::after {width: 0;}#sk-container-id-7 div.sk-dashed-wrapped {border: 1px dashed gray;margin: 0 0.4em 0.5em 0.4em;box-sizing: border-box;padding-bottom: 0.4em;background-color: white;}#sk-container-id-7 div.sk-label label {font-family: monospace;font-weight: bold;display: inline-block;line-height: 1.2em;}#sk-container-id-7 div.sk-label-container {text-align: center;}#sk-container-id-7 div.sk-container {/* jupyter's `normalize.less` sets `[hidden] { display: none; }` but bootstrap.min.css set `[hidden] { display: none !important; }` so we also need the `!important` here to be able to override the default hidden behavior on the sphinx rendered scikit-learn.org. See: https://github.com/scikit-learn/scikit-learn/issues/21755 */display: inline-block !important;position: relative;}#sk-container-id-7 div.sk-text-repr-fallback {display: none;}</style><div id=\"sk-container-id-7\" class=\"sk-top-container\"><div class=\"sk-text-repr-fallback\"><pre>LogisticRegressionCV(Cs=1, class_weight=&#x27;balanced&#x27;, cv=10, fit_intercept=False,\n",
       "                     n_jobs=-1, random_state=35, solver=&#x27;liblinear&#x27;)</pre><b>In a Jupyter environment, please rerun this cell to show the HTML representation or trust the notebook. <br />On GitHub, the HTML representation is unable to render, please try loading this page with nbviewer.org.</b></div><div class=\"sk-container\" hidden><div class=\"sk-item\"><div class=\"sk-estimator sk-toggleable\"><input class=\"sk-toggleable__control sk-hidden--visually\" id=\"sk-estimator-id-7\" type=\"checkbox\" checked><label for=\"sk-estimator-id-7\" class=\"sk-toggleable__label sk-toggleable__label-arrow\">LogisticRegressionCV</label><div class=\"sk-toggleable__content\"><pre>LogisticRegressionCV(Cs=1, class_weight=&#x27;balanced&#x27;, cv=10, fit_intercept=False,\n",
       "                     n_jobs=-1, random_state=35, solver=&#x27;liblinear&#x27;)</pre></div></div></div></div></div>"
      ],
      "text/plain": [
       "LogisticRegressionCV(Cs=1, class_weight='balanced', cv=10, fit_intercept=False,\n",
       "                     n_jobs=-1, random_state=35, solver='liblinear')"
      ]
     },
     "execution_count": 48,
     "metadata": {},
     "output_type": "execute_result"
    }
   ],
   "source": [
    "from sklearn.linear_model import LogisticRegressionCV\n",
    "\n",
    "lrcv_model = LogisticRegressionCV(Cs = 1, fit_intercept = False, random_state = 35, solver = \"liblinear\", cv = 10, class_weight = 'balanced', n_jobs = -1)\n",
    "\n",
    "lrcv_model.fit(x_train, y_train.values.ravel())"
   ]
  },
  {
   "cell_type": "code",
   "execution_count": 43,
   "id": "8a1938ae-f00e-47f3-903a-e714fa1f3def",
   "metadata": {
    "tags": []
   },
   "outputs": [
    {
     "name": "stdout",
     "output_type": "stream",
     "text": [
      "Accuracy: 0.3500\n",
      "[[ 0 91]\n",
      " [ 0 49]]\n",
      "\n",
      "Classification Report\n",
      "              precision    recall  f1-score   support\n",
      "\n",
      "           2       0.00      0.00      0.00        91\n",
      "           4       0.35      1.00      0.52        49\n",
      "\n",
      "    accuracy                           0.35       140\n",
      "   macro avg       0.17      0.50      0.26       140\n",
      "weighted avg       0.12      0.35      0.18       140\n",
      "\n"
     ]
    },
    {
     "name": "stderr",
     "output_type": "stream",
     "text": [
      "C:\\Users\\dell\\Anaconda3\\Lib\\site-packages\\sklearn\\metrics\\_classification.py:1469: UndefinedMetricWarning: Precision and F-score are ill-defined and being set to 0.0 in labels with no predicted samples. Use `zero_division` parameter to control this behavior.\n",
      "  _warn_prf(average, modifier, msg_start, len(result))\n",
      "C:\\Users\\dell\\Anaconda3\\Lib\\site-packages\\sklearn\\metrics\\_classification.py:1469: UndefinedMetricWarning: Precision and F-score are ill-defined and being set to 0.0 in labels with no predicted samples. Use `zero_division` parameter to control this behavior.\n",
      "  _warn_prf(average, modifier, msg_start, len(result))\n",
      "C:\\Users\\dell\\Anaconda3\\Lib\\site-packages\\sklearn\\metrics\\_classification.py:1469: UndefinedMetricWarning: Precision and F-score are ill-defined and being set to 0.0 in labels with no predicted samples. Use `zero_division` parameter to control this behavior.\n",
      "  _warn_prf(average, modifier, msg_start, len(result))\n"
     ]
    }
   ],
   "source": [
    "import sklearn.metrics as metrics\n",
    "\n",
    "lrcv_predict_test = lrcv_model.predict(x_test)\n",
    "\n",
    "print(\"Accuracy: {0:.4f}\".format(metrics.accuracy_score(y_test, lrcv_predict_test)))\n",
    "print(metrics.confusion_matrix(y_test, lrcv_predict_test))\n",
    "print(\"\")\n",
    "print(\"Classification Report\")\n",
    "print(metrics.classification_report(y_test, lrcv_predict_test))"
   ]
  },
  {
   "cell_type": "code",
   "execution_count": null,
   "id": "22de9e34-29f4-43ee-ab7e-083bf98b4fa4",
   "metadata": {},
   "outputs": [],
   "source": []
  }
 ],
 "metadata": {
  "kernelspec": {
   "display_name": "Python 3 (ipykernel)",
   "language": "python",
   "name": "python3"
  },
  "language_info": {
   "codemirror_mode": {
    "name": "ipython",
    "version": 3
   },
   "file_extension": ".py",
   "mimetype": "text/x-python",
   "name": "python",
   "nbconvert_exporter": "python",
   "pygments_lexer": "ipython3",
   "version": "3.11.5"
  }
 },
 "nbformat": 4,
 "nbformat_minor": 5
}
