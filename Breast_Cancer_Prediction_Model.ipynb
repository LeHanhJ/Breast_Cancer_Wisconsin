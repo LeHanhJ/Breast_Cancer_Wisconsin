{
 "cells": [
  {
   "cell_type": "code",
   "execution_count": 1,
   "id": "2b094ec6-6706-4c17-ad77-d98c026f416f",
   "metadata": {
    "tags": []
   },
   "outputs": [],
   "source": [
    "from ucimlrepo import fetch_ucirepo \n",
    "import matplotlib.pyplot as plt\n",
    "import pandas as pd\n",
    "import numpy as np\n",
    "  \n",
    "# fetch dataset \n",
    "breast_cancer_wisconsin_original = fetch_ucirepo(id=15) \n",
    "  \n",
    "# data (as pandas dataframes) \n",
    "df_features = breast_cancer_wisconsin_original.data.features \n",
    "df_targets = breast_cancer_wisconsin_original.data.targets "
   ]
  },
  {
   "cell_type": "markdown",
   "id": "5c4ac582-3566-4cb7-9fd5-b8a0e3a51359",
   "metadata": {},
   "source": [
    "## Prediction Goal: \n",
    "### To create a prediction model to find what patients are more likely to develop malignant breast cancer. (1989 - 1991)"
   ]
  },
  {
   "cell_type": "markdown",
   "id": "afc090ac-a076-41e7-890e-419bc7d46fd4",
   "metadata": {},
   "source": [
    "| Variable Name | Role | Type | Description |\n",
    "|-----------|:-----------:|:----------:|------------:|\n",
    "| Sample_code_number | ID | Categorical | ID Number |\n",
    "| Clump_Thickness | Feature | Integer | 1 - 10 |\n",
    "| Size_Cell_Uniformity | Feature | Integer | 1 - 10 |\n",
    "| Shape_Cell_Uniformity | Feature | Integer | 1 - 10 |\n",
    "| Marginal_Adhesion | Feature | Integer | 1 - 10 |\n",
    "| Single_Epithelial_Cell_Size | Feature |  Integer | 1 - 10|\n",
    "| Bare_Nuclei | Feature | Integer | 1 - 10 |\n",
    "| Bland_Chromatin | Feature | Integer | 1 - 10 |\n",
    "| Normal_Nuclei | Feature | Integer | 1 - 10 |\n",
    "| Mitoses | Feature | Integer | 1 - 10 |\n",
    "| Class | Target | Binary | 2 = Benign, 4 = Malignant |\n"
   ]
  },
  {
   "cell_type": "code",
   "execution_count": 2,
   "id": "01eccda8-9260-4b93-8800-e9aa7eb2de96",
   "metadata": {
    "tags": []
   },
   "outputs": [
    {
     "data": {
      "text/plain": [
       "Class\n",
       "2        458\n",
       "4        241\n",
       "Name: count, dtype: int64"
      ]
     },
     "execution_count": 2,
     "metadata": {},
     "output_type": "execute_result"
    }
   ],
   "source": [
    "df_targets.value_counts()\n",
    "# Checking how many benign vs malignant targets there are "
   ]
  },
  {
   "cell_type": "code",
   "execution_count": 3,
   "id": "d26a7367-dad2-4aef-bfda-81174437cee0",
   "metadata": {
    "tags": []
   },
   "outputs": [
    {
     "data": {
      "text/html": [
       "<div>\n",
       "<style scoped>\n",
       "    .dataframe tbody tr th:only-of-type {\n",
       "        vertical-align: middle;\n",
       "    }\n",
       "\n",
       "    .dataframe tbody tr th {\n",
       "        vertical-align: top;\n",
       "    }\n",
       "\n",
       "    .dataframe thead th {\n",
       "        text-align: right;\n",
       "    }\n",
       "</style>\n",
       "<table border=\"1\" class=\"dataframe\">\n",
       "  <thead>\n",
       "    <tr style=\"text-align: right;\">\n",
       "      <th></th>\n",
       "      <th>Class</th>\n",
       "      <th>Clump_thickness</th>\n",
       "      <th>Uniformity_of_cell_size</th>\n",
       "      <th>Uniformity_of_cell_shape</th>\n",
       "      <th>Marginal_adhesion</th>\n",
       "      <th>Single_epithelial_cell_size</th>\n",
       "      <th>Bare_nuclei</th>\n",
       "      <th>Bland_chromatin</th>\n",
       "      <th>Normal_nucleoli</th>\n",
       "      <th>Mitoses</th>\n",
       "    </tr>\n",
       "  </thead>\n",
       "  <tbody>\n",
       "    <tr>\n",
       "      <th>0</th>\n",
       "      <td>2</td>\n",
       "      <td>5</td>\n",
       "      <td>1</td>\n",
       "      <td>1</td>\n",
       "      <td>1</td>\n",
       "      <td>2</td>\n",
       "      <td>1.0</td>\n",
       "      <td>3</td>\n",
       "      <td>1</td>\n",
       "      <td>1</td>\n",
       "    </tr>\n",
       "    <tr>\n",
       "      <th>1</th>\n",
       "      <td>2</td>\n",
       "      <td>5</td>\n",
       "      <td>4</td>\n",
       "      <td>4</td>\n",
       "      <td>5</td>\n",
       "      <td>7</td>\n",
       "      <td>10.0</td>\n",
       "      <td>3</td>\n",
       "      <td>2</td>\n",
       "      <td>1</td>\n",
       "    </tr>\n",
       "    <tr>\n",
       "      <th>2</th>\n",
       "      <td>2</td>\n",
       "      <td>3</td>\n",
       "      <td>1</td>\n",
       "      <td>1</td>\n",
       "      <td>1</td>\n",
       "      <td>2</td>\n",
       "      <td>2.0</td>\n",
       "      <td>3</td>\n",
       "      <td>1</td>\n",
       "      <td>1</td>\n",
       "    </tr>\n",
       "    <tr>\n",
       "      <th>3</th>\n",
       "      <td>2</td>\n",
       "      <td>6</td>\n",
       "      <td>8</td>\n",
       "      <td>8</td>\n",
       "      <td>1</td>\n",
       "      <td>3</td>\n",
       "      <td>4.0</td>\n",
       "      <td>3</td>\n",
       "      <td>7</td>\n",
       "      <td>1</td>\n",
       "    </tr>\n",
       "    <tr>\n",
       "      <th>4</th>\n",
       "      <td>2</td>\n",
       "      <td>4</td>\n",
       "      <td>1</td>\n",
       "      <td>1</td>\n",
       "      <td>3</td>\n",
       "      <td>2</td>\n",
       "      <td>1.0</td>\n",
       "      <td>3</td>\n",
       "      <td>1</td>\n",
       "      <td>1</td>\n",
       "    </tr>\n",
       "    <tr>\n",
       "      <th>5</th>\n",
       "      <td>4</td>\n",
       "      <td>8</td>\n",
       "      <td>10</td>\n",
       "      <td>10</td>\n",
       "      <td>8</td>\n",
       "      <td>7</td>\n",
       "      <td>10.0</td>\n",
       "      <td>9</td>\n",
       "      <td>7</td>\n",
       "      <td>1</td>\n",
       "    </tr>\n",
       "    <tr>\n",
       "      <th>6</th>\n",
       "      <td>2</td>\n",
       "      <td>1</td>\n",
       "      <td>1</td>\n",
       "      <td>1</td>\n",
       "      <td>1</td>\n",
       "      <td>2</td>\n",
       "      <td>10.0</td>\n",
       "      <td>3</td>\n",
       "      <td>1</td>\n",
       "      <td>1</td>\n",
       "    </tr>\n",
       "    <tr>\n",
       "      <th>7</th>\n",
       "      <td>2</td>\n",
       "      <td>2</td>\n",
       "      <td>1</td>\n",
       "      <td>2</td>\n",
       "      <td>1</td>\n",
       "      <td>2</td>\n",
       "      <td>1.0</td>\n",
       "      <td>3</td>\n",
       "      <td>1</td>\n",
       "      <td>1</td>\n",
       "    </tr>\n",
       "  </tbody>\n",
       "</table>\n",
       "</div>"
      ],
      "text/plain": [
       "   Class  Clump_thickness  Uniformity_of_cell_size  Uniformity_of_cell_shape  \\\n",
       "0      2                5                        1                         1   \n",
       "1      2                5                        4                         4   \n",
       "2      2                3                        1                         1   \n",
       "3      2                6                        8                         8   \n",
       "4      2                4                        1                         1   \n",
       "5      4                8                       10                        10   \n",
       "6      2                1                        1                         1   \n",
       "7      2                2                        1                         2   \n",
       "\n",
       "   Marginal_adhesion  Single_epithelial_cell_size  Bare_nuclei  \\\n",
       "0                  1                            2          1.0   \n",
       "1                  5                            7         10.0   \n",
       "2                  1                            2          2.0   \n",
       "3                  1                            3          4.0   \n",
       "4                  3                            2          1.0   \n",
       "5                  8                            7         10.0   \n",
       "6                  1                            2         10.0   \n",
       "7                  1                            2          1.0   \n",
       "\n",
       "   Bland_chromatin  Normal_nucleoli  Mitoses  \n",
       "0                3                1        1  \n",
       "1                3                2        1  \n",
       "2                3                1        1  \n",
       "3                3                7        1  \n",
       "4                3                1        1  \n",
       "5                9                7        1  \n",
       "6                3                1        1  \n",
       "7                3                1        1  "
      ]
     },
     "execution_count": 3,
     "metadata": {},
     "output_type": "execute_result"
    }
   ],
   "source": [
    "# Concatenate features and targets dataframe into one \n",
    "df = pd.concat([df_targets, df_features], axis = 1)\n",
    "df.head(8)"
   ]
  },
  {
   "cell_type": "code",
   "execution_count": 4,
   "id": "019e65cb-ec4c-4c9f-b2fa-55c3977a75d1",
   "metadata": {
    "tags": []
   },
   "outputs": [
    {
     "data": {
      "text/plain": [
       "True"
      ]
     },
     "execution_count": 4,
     "metadata": {},
     "output_type": "execute_result"
    }
   ],
   "source": [
    "# Check for any null values, and there are so we have to find out what null values there are\n",
    "df.isnull().values.any()"
   ]
  },
  {
   "cell_type": "code",
   "execution_count": 5,
   "id": "f8a75a8b-ac46-4ca3-ae1b-0a2abd1838ac",
   "metadata": {
    "tags": []
   },
   "outputs": [
    {
     "data": {
      "text/plain": [
       "Class                           0\n",
       "Clump_thickness                 0\n",
       "Uniformity_of_cell_size         0\n",
       "Uniformity_of_cell_shape        0\n",
       "Marginal_adhesion               0\n",
       "Single_epithelial_cell_size     0\n",
       "Bare_nuclei                    16\n",
       "Bland_chromatin                 0\n",
       "Normal_nucleoli                 0\n",
       "Mitoses                         0\n",
       "dtype: int64"
      ]
     },
     "execution_count": 5,
     "metadata": {},
     "output_type": "execute_result"
    }
   ],
   "source": [
    "# We know that Bare_nuclei has null values\n",
    "df.isnull().sum()\n",
    "# We will impute later after splitting data"
   ]
  },
  {
   "cell_type": "code",
   "execution_count": 6,
   "id": "2ac38c4b-5ed0-4bc5-bfaa-0148de9fff18",
   "metadata": {
    "tags": []
   },
   "outputs": [],
   "source": [
    "class_map = {2:1, 4:0}"
   ]
  },
  {
   "cell_type": "code",
   "execution_count": 7,
   "id": "c5c29770-dbe9-4d41-b42b-60009a185eb2",
   "metadata": {
    "tags": []
   },
   "outputs": [
    {
     "name": "stdout",
     "output_type": "stream",
     "text": [
      "Number of Benign Cases: 458 (65.52%)\n",
      "Number of Malignant Cases: 241 (34.48%)\n"
     ]
    }
   ],
   "source": [
    "# Check ratio of benign vs malignant cancer\n",
    "\n",
    "num_obs = len(df)\n",
    "benign_num = len(df.loc[df['Class'] == 2])\n",
    "malig_num = len(df.loc[df['Class'] == 4])\n",
    "\n",
    "print(\"Number of Benign Cases: {0} ({1:2.2f}%)\".format(benign_num, (benign_num / (benign_num + malig_num)) * 100))\n",
    "print(\"Number of Malignant Cases: {0} ({1:2.2f}%)\".format(malig_num, (malig_num / (benign_num + malig_num)) * 100))"
   ]
  },
  {
   "cell_type": "markdown",
   "id": "f5677b35-0348-4cb7-b5a6-154b762de9b0",
   "metadata": {},
   "source": [
    "## Splitting the data into Training and Test sets"
   ]
  },
  {
   "cell_type": "code",
   "execution_count": 8,
   "id": "20fb89bb-f620-4cb1-bc71-f2a2d15759db",
   "metadata": {
    "tags": []
   },
   "outputs": [],
   "source": [
    "# Using scikit-learn to split the data\n",
    "\n",
    "from sklearn.model_selection import train_test_split\n",
    "\n",
    "feature_column_names = [\"Clump_thickness\", \"Uniformity_of_cell_size\", \"Uniformity_of_cell_shape\", \"Marginal_adhesion\", \"Single_epithelial_cell_size\", \"Bare_nuclei\", \"Bland_chromatin\", \"Normal_nucleoli\", \"Mitoses\"]\n",
    "predicted_class_name = [\"Class\"]\n",
    "\n",
    "X = df.loc[:, feature_column_names]\n",
    "y = df.loc[:, predicted_class_name]\n",
    "\n",
    "X_train, X_test, y_train, y_test = train_test_split(X, y, test_size = 0.15, random_state = 35)"
   ]
  },
  {
   "cell_type": "code",
   "execution_count": 9,
   "id": "d0a4bc65-40f2-4f0e-a66c-fddc4469b10d",
   "metadata": {
    "tags": []
   },
   "outputs": [
    {
     "name": "stdout",
     "output_type": "stream",
     "text": [
      "84.98% of features data in training set\n",
      "15.02% of features data in test set\n",
      "(594, 9)\n",
      "(105, 9)\n",
      "(594, 1)\n",
      "(105, 1)\n"
     ]
    }
   ],
   "source": [
    "# Checking data splitting\n",
    "\n",
    "print(\"{0:0.2f}% of features data in training set\".format((len(X_train)/len(df.index))*100))\n",
    "print(\"{0:0.2f}% of features data in test set\".format((len(X_test)/len(df.index))*100))\n",
    "print(X_train.shape)\n",
    "print(X_test.shape)\n",
    "print(y_train.shape)\n",
    "print(y_test.shape)"
   ]
  },
  {
   "cell_type": "markdown",
   "id": "9802c674-217a-4922-b369-3eee4b1522d9",
   "metadata": {},
   "source": [
    "## Splitting the Training data into Validation set"
   ]
  },
  {
   "cell_type": "code",
   "execution_count": 10,
   "id": "0c07c914-2367-4d9f-876d-9aa6d3d9164a",
   "metadata": {
    "tags": []
   },
   "outputs": [
    {
     "name": "stdout",
     "output_type": "stream",
     "text": [
      "70.53% of features data in training set\n",
      "15.02% of features data in test set\n",
      "14.45% of features data in validation set\n"
     ]
    }
   ],
   "source": [
    "# Splitting for a validation set of data\n",
    "\n",
    "from sklearn.model_selection import train_test_split\n",
    "\n",
    "\n",
    "X_train, X_test, y_train, y_test = train_test_split(X, y, test_size = 0.15, random_state = 35) #test set\n",
    "X_train, X_valid, y_train, y_valid = train_test_split(X_train, y_train, test_size = 0.17, random_state = 35) #validation set\n",
    "\n",
    "\n",
    "#And checking split for training/ test/ validation sets\n",
    "print(\"{0:0.2f}% of features data in training set\".format((len(X_train)/len(df.index))*100))\n",
    "print(\"{0:0.2f}% of features data in test set\".format((len(X_test)/len(df.index))*100))\n",
    "print(\"{0:0.2f}% of features data in validation set\".format((len(X_valid)/len(df.index))*100))\n"
   ]
  },
  {
   "cell_type": "code",
   "execution_count": 11,
   "id": "6041053d-719f-4d54-83a8-779a3ffc81d6",
   "metadata": {},
   "outputs": [],
   "source": [
    "# Impute missing data in Bare Nuclei\n",
    "from sklearn.impute import SimpleImputer\n",
    "\n",
    "bare_nuclei_impute = SimpleImputer(missing_values = np.nan, strategy = \"mean\")\n",
    "\n",
    "X_train = bare_nuclei_impute.fit_transform(X_train)\n",
    "X_test = bare_nuclei_impute.fit_transform(X_test)\n",
    "X_valid = bare_nuclei_impute.fit_transform(X_valid)"
   ]
  },
  {
   "cell_type": "code",
   "execution_count": 12,
   "id": "e484e88b-4592-4b16-8e32-c4239759a3d9",
   "metadata": {
    "tags": []
   },
   "outputs": [
    {
     "name": "stdout",
     "output_type": "stream",
     "text": [
      "Original Benign: 458 (65.52%)\n",
      "Original Malignant: 241 (34.48%)\n",
      "\n",
      "Training Benign  : 314 (63.69%)\n",
      "Training Malignant : 179 (36.31%)\n",
      "\n",
      "Test Benign  : 70 (66.67%)\n",
      "Test Malignant : 35 (33.33%)\n",
      "\n",
      "Valid Benign  : 74 (73.27%)\n",
      "Valid Malignant : 27 (26.73%)\n"
     ]
    }
   ],
   "source": [
    "#Check if the percentages of 2 and 4 are similar between sets\n",
    "\n",
    "print(\"Original Benign: {0} ({1:0.2f}%)\".format(len(df.loc[df[\"Class\"] == 2]), (len(df.loc[df[\"Class\"] == 2])/len(df.index))*100 ))\n",
    "print(\"Original Malignant: {0} ({1:0.2f}%)\".format(len(df.loc[df['Class'] == 4]), (len(df.loc[df['Class'] == 4])/len(df.index)) * 100))\n",
    "print(\"\")\n",
    "\n",
    "print(\"Training Benign  : {0} ({1:0.2f}%)\".format(len(y_train[y_train['Class'] == 2]), (len(y_train[y_train['Class'] == 2])/len(y_train) * 100.0)))\n",
    "print(\"Training Malignant : {0} ({1:0.2f}%)\".format(len(y_train[y_train['Class'] == 4]), (len(y_train[y_train['Class'] == 4])/len(y_train) * 100.0)))\n",
    "\n",
    "print(\"\")\n",
    "\n",
    "print(\"Test Benign  : {0} ({1:0.2f}%)\".format(len(y_test[y_test['Class'] == 2]), (len(y_test[y_test['Class'] == 2])/len(y_test)) * 100.0))\n",
    "print(\"Test Malignant : {0} ({1:0.2f}%)\".format(len(y_test[y_test['Class'] == 4]), (len(y_test[y_test['Class'] == 4])/len(y_test)) * 100.0))\n",
    "print(\"\")\n",
    "print(\"Valid Benign  : {0} ({1:0.2f}%)\".format(len(y_valid[y_valid['Class'] == 2]), (len(y_valid[y_valid['Class'] == 2])/len(y_valid)) * 100.0))\n",
    "print(\"Valid Malignant : {0} ({1:0.2f}%)\".format(len(y_valid[y_valid['Class'] == 4]), (len(y_valid[y_valid['Class']== 4])/len(y_valid)) * 100.0))"
   ]
  },
  {
   "cell_type": "markdown",
   "id": "703f421d-9892-4387-909a-1c5963823405",
   "metadata": {},
   "source": [
    "# Splitting and Preprocessing data completed (for now)"
   ]
  },
  {
   "cell_type": "markdown",
   "id": "0555d7ae-7523-43e4-9ee4-24b62a2b4345",
   "metadata": {},
   "source": [
    "# Training model on a Logistic Regression algorithm"
   ]
  },
  {
   "cell_type": "code",
   "execution_count": 33,
   "id": "d8c55c51-d89b-40a0-a498-7d38bbcdaa2a",
   "metadata": {
    "tags": []
   },
   "outputs": [],
   "source": [
    "from sklearn.linear_model import LogisticRegressionCV\n",
    "import sklearn.metrics as metrics\n",
    "\n",
    "lrcv_model = LogisticRegressionCV(Cs = 2, fit_intercept = False, random_state = 35, solver = \"liblinear\", cv = 10, class_weight = 'balanced', n_jobs = -1)\n",
    "\n"
   ]
  },
  {
   "cell_type": "code",
   "execution_count": 34,
   "id": "c083c6e3-9b46-44dd-bc82-f5d6b7b013a0",
   "metadata": {
    "tags": []
   },
   "outputs": [],
   "source": [
    "lrcv_model.fit(X_train, y_train.values.ravel()) # Fitting the model according to the given training data (X_train and y_train)\n",
    "#method.fit() trains the model\n",
    "\n",
    "#performance on X_train training data\n",
    "lrcv_predict_train = lrcv_model.predict(X_test)"
   ]
  },
  {
   "cell_type": "code",
   "execution_count": 36,
   "id": "9f61ea28-ce18-487c-9fba-10f8f506accf",
   "metadata": {
    "tags": []
   },
   "outputs": [
    {
     "name": "stdout",
     "output_type": "stream",
     "text": [
      "Accuracy: 0.85\n"
     ]
    }
   ],
   "source": [
    "#Looking at accuracy of the model using y_train\n",
    "print(\"Accuracy: {0:.2f}\".format(metrics.accuracy_score(y_test, lrcv_predict_train)))\n"
   ]
  },
  {
   "cell_type": "code",
   "execution_count": 46,
   "id": "6ce75de7-f51d-4c73-bc75-1c4acc7ec559",
   "metadata": {
    "tags": []
   },
   "outputs": [
    {
     "name": "stdout",
     "output_type": "stream",
     "text": [
      "[[59 11]\n",
      " [ 5 30]]\n",
      "              precision    recall  f1-score   support\n",
      "\n",
      "           2       0.92      0.84      0.88        70\n",
      "           4       0.73      0.86      0.79        35\n",
      "\n",
      "    accuracy                           0.85       105\n",
      "   macro avg       0.83      0.85      0.84       105\n",
      "weighted avg       0.86      0.85      0.85       105\n",
      "\n"
     ]
    },
    {
     "ename": "ValueError",
     "evalue": "pos_label=1 is not a valid label. It should be one of [2, 4]",
     "output_type": "error",
     "traceback": [
      "\u001b[1;31m---------------------------------------------------------------------------\u001b[0m",
      "\u001b[1;31mValueError\u001b[0m                                Traceback (most recent call last)",
      "Cell \u001b[1;32mIn[46], line 14\u001b[0m\n\u001b[0;32m     10\u001b[0m \u001b[38;5;28mprint\u001b[39m(class_report)\n\u001b[0;32m     12\u001b[0m precision_score(y_test, lrcv_predict_train, average \u001b[38;5;241m=\u001b[39m \u001b[38;5;28;01mNone\u001b[39;00m)\n\u001b[1;32m---> 14\u001b[0m \u001b[38;5;28mprint\u001b[39m(\u001b[38;5;124m\"\u001b[39m\u001b[38;5;124mPrecision score: \u001b[39m\u001b[38;5;132;01m{}\u001b[39;00m\u001b[38;5;124m\"\u001b[39m\u001b[38;5;241m.\u001b[39mformat(precision_score(y_test, lrcv_predict_train), pos_label \u001b[38;5;241m=\u001b[39m (\u001b[38;5;241m1\u001b[39m \u001b[38;5;241m==\u001b[39m \u001b[38;5;241m2\u001b[39m)))\n",
      "File \u001b[1;32m~\\Anaconda3\\Lib\\site-packages\\sklearn\\utils\\_param_validation.py:211\u001b[0m, in \u001b[0;36mvalidate_params.<locals>.decorator.<locals>.wrapper\u001b[1;34m(*args, **kwargs)\u001b[0m\n\u001b[0;32m    205\u001b[0m \u001b[38;5;28;01mtry\u001b[39;00m:\n\u001b[0;32m    206\u001b[0m     \u001b[38;5;28;01mwith\u001b[39;00m config_context(\n\u001b[0;32m    207\u001b[0m         skip_parameter_validation\u001b[38;5;241m=\u001b[39m(\n\u001b[0;32m    208\u001b[0m             prefer_skip_nested_validation \u001b[38;5;129;01mor\u001b[39;00m global_skip_validation\n\u001b[0;32m    209\u001b[0m         )\n\u001b[0;32m    210\u001b[0m     ):\n\u001b[1;32m--> 211\u001b[0m         \u001b[38;5;28;01mreturn\u001b[39;00m func(\u001b[38;5;241m*\u001b[39margs, \u001b[38;5;241m*\u001b[39m\u001b[38;5;241m*\u001b[39mkwargs)\n\u001b[0;32m    212\u001b[0m \u001b[38;5;28;01mexcept\u001b[39;00m InvalidParameterError \u001b[38;5;28;01mas\u001b[39;00m e:\n\u001b[0;32m    213\u001b[0m     \u001b[38;5;66;03m# When the function is just a wrapper around an estimator, we allow\u001b[39;00m\n\u001b[0;32m    214\u001b[0m     \u001b[38;5;66;03m# the function to delegate validation to the estimator, but we replace\u001b[39;00m\n\u001b[0;32m    215\u001b[0m     \u001b[38;5;66;03m# the name of the estimator by the name of the function in the error\u001b[39;00m\n\u001b[0;32m    216\u001b[0m     \u001b[38;5;66;03m# message to avoid confusion.\u001b[39;00m\n\u001b[0;32m    217\u001b[0m     msg \u001b[38;5;241m=\u001b[39m re\u001b[38;5;241m.\u001b[39msub(\n\u001b[0;32m    218\u001b[0m         \u001b[38;5;124mr\u001b[39m\u001b[38;5;124m\"\u001b[39m\u001b[38;5;124mparameter of \u001b[39m\u001b[38;5;124m\\\u001b[39m\u001b[38;5;124mw+ must be\u001b[39m\u001b[38;5;124m\"\u001b[39m,\n\u001b[0;32m    219\u001b[0m         \u001b[38;5;124mf\u001b[39m\u001b[38;5;124m\"\u001b[39m\u001b[38;5;124mparameter of \u001b[39m\u001b[38;5;132;01m{\u001b[39;00mfunc\u001b[38;5;241m.\u001b[39m\u001b[38;5;18m__qualname__\u001b[39m\u001b[38;5;132;01m}\u001b[39;00m\u001b[38;5;124m must be\u001b[39m\u001b[38;5;124m\"\u001b[39m,\n\u001b[0;32m    220\u001b[0m         \u001b[38;5;28mstr\u001b[39m(e),\n\u001b[0;32m    221\u001b[0m     )\n",
      "File \u001b[1;32m~\\Anaconda3\\Lib\\site-packages\\sklearn\\metrics\\_classification.py:2127\u001b[0m, in \u001b[0;36mprecision_score\u001b[1;34m(y_true, y_pred, labels, pos_label, average, sample_weight, zero_division)\u001b[0m\n\u001b[0;32m   1970\u001b[0m \u001b[38;5;129m@validate_params\u001b[39m(\n\u001b[0;32m   1971\u001b[0m     {\n\u001b[0;32m   1972\u001b[0m         \u001b[38;5;124m\"\u001b[39m\u001b[38;5;124my_true\u001b[39m\u001b[38;5;124m\"\u001b[39m: [\u001b[38;5;124m\"\u001b[39m\u001b[38;5;124marray-like\u001b[39m\u001b[38;5;124m\"\u001b[39m, \u001b[38;5;124m\"\u001b[39m\u001b[38;5;124msparse matrix\u001b[39m\u001b[38;5;124m\"\u001b[39m],\n\u001b[1;32m   (...)\u001b[0m\n\u001b[0;32m   1996\u001b[0m     zero_division\u001b[38;5;241m=\u001b[39m\u001b[38;5;124m\"\u001b[39m\u001b[38;5;124mwarn\u001b[39m\u001b[38;5;124m\"\u001b[39m,\n\u001b[0;32m   1997\u001b[0m ):\n\u001b[0;32m   1998\u001b[0m \u001b[38;5;250m    \u001b[39m\u001b[38;5;124;03m\"\"\"Compute the precision.\u001b[39;00m\n\u001b[0;32m   1999\u001b[0m \n\u001b[0;32m   2000\u001b[0m \u001b[38;5;124;03m    The precision is the ratio ``tp / (tp + fp)`` where ``tp`` is the number of\u001b[39;00m\n\u001b[1;32m   (...)\u001b[0m\n\u001b[0;32m   2125\u001b[0m \u001b[38;5;124;03m    array([0.5, 1. , 1. ])\u001b[39;00m\n\u001b[0;32m   2126\u001b[0m \u001b[38;5;124;03m    \"\"\"\u001b[39;00m\n\u001b[1;32m-> 2127\u001b[0m     p, _, _, _ \u001b[38;5;241m=\u001b[39m precision_recall_fscore_support(\n\u001b[0;32m   2128\u001b[0m         y_true,\n\u001b[0;32m   2129\u001b[0m         y_pred,\n\u001b[0;32m   2130\u001b[0m         labels\u001b[38;5;241m=\u001b[39mlabels,\n\u001b[0;32m   2131\u001b[0m         pos_label\u001b[38;5;241m=\u001b[39mpos_label,\n\u001b[0;32m   2132\u001b[0m         average\u001b[38;5;241m=\u001b[39maverage,\n\u001b[0;32m   2133\u001b[0m         warn_for\u001b[38;5;241m=\u001b[39m(\u001b[38;5;124m\"\u001b[39m\u001b[38;5;124mprecision\u001b[39m\u001b[38;5;124m\"\u001b[39m,),\n\u001b[0;32m   2134\u001b[0m         sample_weight\u001b[38;5;241m=\u001b[39msample_weight,\n\u001b[0;32m   2135\u001b[0m         zero_division\u001b[38;5;241m=\u001b[39mzero_division,\n\u001b[0;32m   2136\u001b[0m     )\n\u001b[0;32m   2137\u001b[0m     \u001b[38;5;28;01mreturn\u001b[39;00m p\n",
      "File \u001b[1;32m~\\Anaconda3\\Lib\\site-packages\\sklearn\\utils\\_param_validation.py:184\u001b[0m, in \u001b[0;36mvalidate_params.<locals>.decorator.<locals>.wrapper\u001b[1;34m(*args, **kwargs)\u001b[0m\n\u001b[0;32m    182\u001b[0m global_skip_validation \u001b[38;5;241m=\u001b[39m get_config()[\u001b[38;5;124m\"\u001b[39m\u001b[38;5;124mskip_parameter_validation\u001b[39m\u001b[38;5;124m\"\u001b[39m]\n\u001b[0;32m    183\u001b[0m \u001b[38;5;28;01mif\u001b[39;00m global_skip_validation:\n\u001b[1;32m--> 184\u001b[0m     \u001b[38;5;28;01mreturn\u001b[39;00m func(\u001b[38;5;241m*\u001b[39margs, \u001b[38;5;241m*\u001b[39m\u001b[38;5;241m*\u001b[39mkwargs)\n\u001b[0;32m    186\u001b[0m func_sig \u001b[38;5;241m=\u001b[39m signature(func)\n\u001b[0;32m    188\u001b[0m \u001b[38;5;66;03m# Map *args/**kwargs to the function signature\u001b[39;00m\n",
      "File \u001b[1;32m~\\Anaconda3\\Lib\\site-packages\\sklearn\\metrics\\_classification.py:1721\u001b[0m, in \u001b[0;36mprecision_recall_fscore_support\u001b[1;34m(y_true, y_pred, beta, labels, pos_label, average, warn_for, sample_weight, zero_division)\u001b[0m\n\u001b[0;32m   1563\u001b[0m \u001b[38;5;250m\u001b[39m\u001b[38;5;124;03m\"\"\"Compute precision, recall, F-measure and support for each class.\u001b[39;00m\n\u001b[0;32m   1564\u001b[0m \n\u001b[0;32m   1565\u001b[0m \u001b[38;5;124;03mThe precision is the ratio ``tp / (tp + fp)`` where ``tp`` is the number of\u001b[39;00m\n\u001b[1;32m   (...)\u001b[0m\n\u001b[0;32m   1718\u001b[0m \u001b[38;5;124;03m array([2, 2, 2]))\u001b[39;00m\n\u001b[0;32m   1719\u001b[0m \u001b[38;5;124;03m\"\"\"\u001b[39;00m\n\u001b[0;32m   1720\u001b[0m zero_division_value \u001b[38;5;241m=\u001b[39m _check_zero_division(zero_division)\n\u001b[1;32m-> 1721\u001b[0m labels \u001b[38;5;241m=\u001b[39m _check_set_wise_labels(y_true, y_pred, average, labels, pos_label)\n\u001b[0;32m   1723\u001b[0m \u001b[38;5;66;03m# Calculate tp_sum, pred_sum, true_sum ###\u001b[39;00m\n\u001b[0;32m   1724\u001b[0m samplewise \u001b[38;5;241m=\u001b[39m average \u001b[38;5;241m==\u001b[39m \u001b[38;5;124m\"\u001b[39m\u001b[38;5;124msamples\u001b[39m\u001b[38;5;124m\"\u001b[39m\n",
      "File \u001b[1;32m~\\Anaconda3\\Lib\\site-packages\\sklearn\\metrics\\_classification.py:1507\u001b[0m, in \u001b[0;36m_check_set_wise_labels\u001b[1;34m(y_true, y_pred, average, labels, pos_label)\u001b[0m\n\u001b[0;32m   1505\u001b[0m     \u001b[38;5;28;01mif\u001b[39;00m pos_label \u001b[38;5;129;01mnot\u001b[39;00m \u001b[38;5;129;01min\u001b[39;00m present_labels:\n\u001b[0;32m   1506\u001b[0m         \u001b[38;5;28;01mif\u001b[39;00m \u001b[38;5;28mlen\u001b[39m(present_labels) \u001b[38;5;241m>\u001b[39m\u001b[38;5;241m=\u001b[39m \u001b[38;5;241m2\u001b[39m:\n\u001b[1;32m-> 1507\u001b[0m             \u001b[38;5;28;01mraise\u001b[39;00m \u001b[38;5;167;01mValueError\u001b[39;00m(\n\u001b[0;32m   1508\u001b[0m                 \u001b[38;5;124mf\u001b[39m\u001b[38;5;124m\"\u001b[39m\u001b[38;5;124mpos_label=\u001b[39m\u001b[38;5;132;01m{\u001b[39;00mpos_label\u001b[38;5;132;01m}\u001b[39;00m\u001b[38;5;124m is not a valid label. It \u001b[39m\u001b[38;5;124m\"\u001b[39m\n\u001b[0;32m   1509\u001b[0m                 \u001b[38;5;124mf\u001b[39m\u001b[38;5;124m\"\u001b[39m\u001b[38;5;124mshould be one of \u001b[39m\u001b[38;5;132;01m{\u001b[39;00mpresent_labels\u001b[38;5;132;01m}\u001b[39;00m\u001b[38;5;124m\"\u001b[39m\n\u001b[0;32m   1510\u001b[0m             )\n\u001b[0;32m   1511\u001b[0m     labels \u001b[38;5;241m=\u001b[39m [pos_label]\n\u001b[0;32m   1512\u001b[0m \u001b[38;5;28;01melse\u001b[39;00m:\n",
      "\u001b[1;31mValueError\u001b[0m: pos_label=1 is not a valid label. It should be one of [2, 4]"
     ]
    }
   ],
   "source": [
    "from sklearn.metrics import precision_score\n",
    "\n",
    "con_matrix = metrics.confusion_matrix(y_test, lrcv_predict_train)\n",
    "print(con_matrix)\n",
    "\n",
    "#[TP | FP]\n",
    "#[FN | TN]\n",
    "\n",
    "class_report = metrics.classification_report(y_test, lrcv_predict_train)\n",
    "print(class_report)\n",
    "\n",
    "precision_score(y_test, lrcv_predict_train, average = None)\n",
    "\n",
    "print(\"Precision score: {}\".format(precision_score(y_test, lrcv_predict_train), pos_label = 2))\n"
   ]
  },
  {
   "cell_type": "code",
   "execution_count": null,
   "id": "c7cde23f-0791-4091-b743-f6ce475f0d95",
   "metadata": {},
   "outputs": [],
   "source": []
  }
 ],
 "metadata": {
  "kernelspec": {
   "display_name": "Python 3 (ipykernel)",
   "language": "python",
   "name": "python3"
  },
  "language_info": {
   "codemirror_mode": {
    "name": "ipython",
    "version": 3
   },
   "file_extension": ".py",
   "mimetype": "text/x-python",
   "name": "python",
   "nbconvert_exporter": "python",
   "pygments_lexer": "ipython3",
   "version": "3.11.5"
  }
 },
 "nbformat": 4,
 "nbformat_minor": 5
}
